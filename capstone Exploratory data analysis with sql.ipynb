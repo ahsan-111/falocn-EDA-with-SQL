{
 "cells": [
  {
   "cell_type": "code",
   "execution_count": 52,
   "id": "f84cf4d9",
   "metadata": {},
   "outputs": [],
   "source": [
    "import mysql.connector"
   ]
  },
  {
   "cell_type": "code",
   "execution_count": 83,
   "id": "000549d7",
   "metadata": {},
   "outputs": [
    {
     "name": "stdout",
     "output_type": "stream",
     "text": [
      "connected\n"
     ]
    }
   ],
   "source": [
    "try:\n",
    "    mydb = mysql.connector.connect(\n",
    "    host = \"localhost\",\n",
    "    user = \"root\",\n",
    "    password = \"ahsanjaved@96\",\n",
    "    database = \"space\"\n",
    "    )\n",
    "    print(\"connected\")\n",
    "except:\n",
    "    print(\"not connected\")"
   ]
  },
  {
   "cell_type": "code",
   "execution_count": 84,
   "id": "ffa5366f",
   "metadata": {},
   "outputs": [],
   "source": [
    "mycursor = mydb.cursor()"
   ]
  },
  {
   "cell_type": "markdown",
   "id": "a97c9fe1",
   "metadata": {},
   "source": [
    "### Task 1\n",
    "\n",
    "##### Display the names of the unique launch sites  in the space mission"
   ]
  },
  {
   "cell_type": "code",
   "execution_count": 85,
   "id": "1e8b1862",
   "metadata": {},
   "outputs": [],
   "source": [
    "q1 = \"(select distinct Launch_Site  from spacex)\""
   ]
  },
  {
   "cell_type": "code",
   "execution_count": 86,
   "id": "374ac876",
   "metadata": {},
   "outputs": [
    {
     "data": {
      "text/plain": [
       "[('CCAFS LC-40',), ('VAFB SLC-4E',), ('KSC LC-39A',), ('CCAFS SLC-40',)]"
      ]
     },
     "execution_count": 86,
     "metadata": {},
     "output_type": "execute_result"
    }
   ],
   "source": [
    "mycursor.execute(q1)\n",
    "ans1 = mycursor.fetchall()\n",
    "ans1"
   ]
  },
  {
   "cell_type": "markdown",
   "id": "621214d0",
   "metadata": {},
   "source": [
    "### Task 2\n",
    "\n",
    "##### Display 5 records where launch sites begin with the string 'CCA'"
   ]
  },
  {
   "cell_type": "code",
   "execution_count": 87,
   "id": "e843c08f",
   "metadata": {},
   "outputs": [],
   "source": [
    "q2 = \"(select Launch_Site from spacex where Launch_Site like 'CCA%' limit 5)\"\n"
   ]
  },
  {
   "cell_type": "code",
   "execution_count": 88,
   "id": "1b2ea089",
   "metadata": {},
   "outputs": [
    {
     "data": {
      "text/plain": [
       "[('CCAFS LC-40',),\n",
       " ('CCAFS LC-40',),\n",
       " ('CCAFS LC-40',),\n",
       " ('CCAFS LC-40',),\n",
       " ('CCAFS LC-40',)]"
      ]
     },
     "execution_count": 88,
     "metadata": {},
     "output_type": "execute_result"
    }
   ],
   "source": [
    "mycursor.execute(q2)\n",
    "ans2 = mycursor.fetchall()\n",
    "ans2"
   ]
  },
  {
   "cell_type": "markdown",
   "id": "4746a5f4",
   "metadata": {},
   "source": [
    "### Task 3\n",
    "\n",
    "##### Display the total payload mass carried by boosters launched by NASA (CRS)"
   ]
  },
  {
   "cell_type": "code",
   "execution_count": 89,
   "id": "4838f302",
   "metadata": {},
   "outputs": [],
   "source": [
    "q3 = \"(select SUM(PAYLOAD_MASS__KG_) as Total_payload_masss from spacex where Customer = 'NASA (CRS)')\"\n"
   ]
  },
  {
   "cell_type": "code",
   "execution_count": 90,
   "id": "313b57a1",
   "metadata": {},
   "outputs": [
    {
     "data": {
      "text/plain": [
       "[(Decimal('45596'),)]"
      ]
     },
     "execution_count": 90,
     "metadata": {},
     "output_type": "execute_result"
    }
   ],
   "source": [
    "mycursor.execute(q3)\n",
    "ans3 = mycursor.fetchall()\n",
    "ans3"
   ]
  },
  {
   "cell_type": "markdown",
   "id": "089b9fd3",
   "metadata": {},
   "source": [
    "### Task 4\n",
    "\n",
    "##### Display average payload mass carried by booster version F9 v1.1\n"
   ]
  },
  {
   "cell_type": "code",
   "execution_count": 91,
   "id": "05bcde0e",
   "metadata": {},
   "outputs": [],
   "source": [
    "q4 = \"(select avg(PAYLOAD_MASS__KG_) from spacex where Booster_Version = 'F9 v1.1')\"\n"
   ]
  },
  {
   "cell_type": "code",
   "execution_count": 92,
   "id": "3220f4a6",
   "metadata": {},
   "outputs": [
    {
     "data": {
      "text/plain": [
       "[(Decimal('2928.4000'),)]"
      ]
     },
     "execution_count": 92,
     "metadata": {},
     "output_type": "execute_result"
    }
   ],
   "source": [
    "mycursor.execute(q4)\n",
    "ans4 = mycursor.fetchall()\n",
    "ans4"
   ]
  },
  {
   "cell_type": "markdown",
   "id": "9be51b6e",
   "metadata": {},
   "source": [
    "### Task 5\n",
    "\n",
    "##### List the date when the first successful landing outcome in ground pad was acheived."
   ]
  },
  {
   "cell_type": "code",
   "execution_count": 96,
   "id": "6a22539c",
   "metadata": {},
   "outputs": [],
   "source": [
    "q5 = \"(select min(D_ate) from spacex where Landing_Outcome = 'Success (ground pad)')\"\n"
   ]
  },
  {
   "cell_type": "code",
   "execution_count": 97,
   "id": "124f554b",
   "metadata": {},
   "outputs": [
    {
     "data": {
      "text/plain": [
       "[('01/05/2017',)]"
      ]
     },
     "execution_count": 97,
     "metadata": {},
     "output_type": "execute_result"
    }
   ],
   "source": [
    "mycursor.execute(q5)\n",
    "ans5 = mycursor.fetchall()\n",
    "ans5"
   ]
  },
  {
   "cell_type": "markdown",
   "id": "ed786b9f",
   "metadata": {},
   "source": [
    "### Task 6\n",
    "\n",
    "##### List the names of the boosters which have success in drone ship and have payload mass greater than 4000 but less than 6000"
   ]
  },
  {
   "cell_type": "code",
   "execution_count": 98,
   "id": "a810257b",
   "metadata": {},
   "outputs": [],
   "source": [
    "q6 = \"(select Booster_Version from spacex where Landing_Outcome='Success (drone ship)' and PAYLOAD_MASS__KG_ BETWEEN 4001 and 5999)\"\n"
   ]
  },
  {
   "cell_type": "code",
   "execution_count": 99,
   "id": "f6f2c7d2",
   "metadata": {},
   "outputs": [
    {
     "data": {
      "text/plain": [
       "[('F9 FT B1022',), ('F9 FT B1026',), ('F9 FT  B1021.2',), ('F9 FT  B1031.2',)]"
      ]
     },
     "execution_count": 99,
     "metadata": {},
     "output_type": "execute_result"
    }
   ],
   "source": [
    "mycursor.execute(q6)\n",
    "ans6 = mycursor.fetchall()\n",
    "ans6"
   ]
  },
  {
   "cell_type": "markdown",
   "id": "a199706f",
   "metadata": {},
   "source": [
    "### Task 7\n",
    "\n",
    "##### List the total number of successful and failure mission outcomes"
   ]
  },
  {
   "cell_type": "code",
   "execution_count": 100,
   "id": "3aba9b58",
   "metadata": {},
   "outputs": [],
   "source": [
    "q7 = \"(SELECT MISSION_OUTCOME, COUNT(MISSION_OUTCOME) AS OUTCOME FROM spacex GROUP BY MISSION_OUTCOME)\"\n"
   ]
  },
  {
   "cell_type": "code",
   "execution_count": 101,
   "id": "92f072d8",
   "metadata": {},
   "outputs": [
    {
     "data": {
      "text/plain": [
       "[('Success', 98),\n",
       " ('Failure (in flight)', 1),\n",
       " ('Success (payload status unclear)', 1),\n",
       " ('Success ', 1)]"
      ]
     },
     "execution_count": 101,
     "metadata": {},
     "output_type": "execute_result"
    }
   ],
   "source": [
    "mycursor.execute(q7)\n",
    "ans7 = mycursor.fetchall()\n",
    "ans7"
   ]
  },
  {
   "cell_type": "markdown",
   "id": "f25d1229",
   "metadata": {},
   "source": [
    "### Task 8\n",
    "\n",
    "##### List the   names of the booster_versions which have carried the maximum payload mass. Use a subquery"
   ]
  },
  {
   "cell_type": "code",
   "execution_count": 103,
   "id": "949f6a1e",
   "metadata": {},
   "outputs": [],
   "source": [
    "q8 = \"(select Booster_Version from spacex where PAYLOAD_MASS__KG_= (select max(PAYLOAD_MASS__KG_) from spacex))\"\n"
   ]
  },
  {
   "cell_type": "code",
   "execution_count": 104,
   "id": "c38ab490",
   "metadata": {},
   "outputs": [
    {
     "data": {
      "text/plain": [
       "[('F9 B5 B1048.4',),\n",
       " ('F9 B5 B1049.4',),\n",
       " ('F9 B5 B1051.3',),\n",
       " ('F9 B5 B1056.4',),\n",
       " ('F9 B5 B1048.5',),\n",
       " ('F9 B5 B1051.4',),\n",
       " ('F9 B5 B1049.5',),\n",
       " ('F9 B5 B1060.2 ',),\n",
       " ('F9 B5 B1058.3 ',),\n",
       " ('F9 B5 B1051.6',),\n",
       " ('F9 B5 B1060.3',),\n",
       " ('F9 B5 B1049.7 ',)]"
      ]
     },
     "execution_count": 104,
     "metadata": {},
     "output_type": "execute_result"
    }
   ],
   "source": [
    "mycursor.execute(q8)\n",
    "ans8 = mycursor.fetchall()\n",
    "ans8"
   ]
  },
  {
   "cell_type": "markdown",
   "id": "15c31791",
   "metadata": {},
   "source": [
    "### Task 9\n",
    "\n",
    "##### List the failed landing_outcomes in drone ship, their booster versions, and launch site names for in year 2015\n",
    "\n"
   ]
  },
  {
   "cell_type": "code",
   "execution_count": 105,
   "id": "dd31771e",
   "metadata": {},
   "outputs": [],
   "source": [
    "q9 = \"(SELECT D_ate, Booster_Version, Launch_Site, Landing_Outcome FROM spacex WHERE Landing_Outcome = 'Failure (drone ship)' and D_ate like '%2015%')\"\n"
   ]
  },
  {
   "cell_type": "code",
   "execution_count": 106,
   "id": "4776ba9e",
   "metadata": {},
   "outputs": [
    {
     "data": {
      "text/plain": [
       "[('10/01/2015', 'F9 v1.1 B1012', 'CCAFS LC-40', 'Failure (drone ship)'),\n",
       " ('14/04/2015', 'F9 v1.1 B1015', 'CCAFS LC-40', 'Failure (drone ship)')]"
      ]
     },
     "execution_count": 106,
     "metadata": {},
     "output_type": "execute_result"
    }
   ],
   "source": [
    "mycursor.execute(q9)\n",
    "ans9 = mycursor.fetchall()\n",
    "ans9"
   ]
  },
  {
   "cell_type": "markdown",
   "id": "035f33f4",
   "metadata": {},
   "source": [
    "### Task 10\n",
    "\n",
    "##### Rank the count of landing outcomes (such as Failure (drone ship) or Success (ground pad)) between the date 2010-06-04 and 2017-03-20, in descending order\n"
   ]
  },
  {
   "cell_type": "code",
   "execution_count": 111,
   "id": "8d77d9f8",
   "metadata": {},
   "outputs": [],
   "source": [
    "q10 = \"(SELECT Landing_Outcome, COUNT(*) AS COUNT_LAUNCHES FROM spacex WHERE D_ate BETWEEN '04/06/2010' AND '20/03/2017' GROUP BY Landing_Outcome ORDER BY COUNT_LAUNCHES DESC)\"\n"
   ]
  },
  {
   "cell_type": "code",
   "execution_count": 113,
   "id": "3a4f6a31",
   "metadata": {},
   "outputs": [
    {
     "data": {
      "text/plain": [
       "[('Success', 20),\n",
       " ('No attempt', 10),\n",
       " ('Success (drone ship)', 8),\n",
       " ('Success (ground pad)', 6),\n",
       " ('Failure (drone ship)', 4),\n",
       " ('Controlled (ocean)', 3),\n",
       " ('Failure', 3),\n",
       " ('Failure (parachute)', 2),\n",
       " ('No attempt ', 1)]"
      ]
     },
     "execution_count": 113,
     "metadata": {},
     "output_type": "execute_result"
    }
   ],
   "source": [
    "mycursor.execute(q10)\n",
    "ans10 = mycursor.fetchall()\n",
    "ans10"
   ]
  },
  {
   "cell_type": "code",
   "execution_count": null,
   "id": "86f19079",
   "metadata": {},
   "outputs": [],
   "source": []
  }
 ],
 "metadata": {
  "kernelspec": {
   "display_name": "Python 3 (ipykernel)",
   "language": "python",
   "name": "python3"
  },
  "language_info": {
   "codemirror_mode": {
    "name": "ipython",
    "version": 3
   },
   "file_extension": ".py",
   "mimetype": "text/x-python",
   "name": "python",
   "nbconvert_exporter": "python",
   "pygments_lexer": "ipython3",
   "version": "3.9.12"
  }
 },
 "nbformat": 4,
 "nbformat_minor": 5
}
